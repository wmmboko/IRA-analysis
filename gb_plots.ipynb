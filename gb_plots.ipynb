{
 "cells": [
  {
   "cell_type": "markdown",
   "metadata": {},
   "source": [
    "### 1. import packages\n",
    "part of the imports include IRA which has a class **GB_data**"
   ]
  },
  {
   "cell_type": "code",
   "execution_count": 1,
   "metadata": {},
   "outputs": [],
   "source": [
    "import numpy as np\n",
    "import pandas as pd\n",
    "import matplotlib.pyplot as plt\n",
    "from IRA import Gb_data"
   ]
  },
  {
   "cell_type": "markdown",
   "metadata": {},
   "source": [
    "### 2. instantiante 2018 and 2019 data"
   ]
  },
  {
   "cell_type": "code",
   "execution_count": 2,
   "metadata": {},
   "outputs": [],
   "source": [
    "data_18 = Gb_data(2018,4)\n",
    "data_19 = Gb_data(2019,4)"
   ]
  },
  {
   "cell_type": "markdown",
   "metadata": {},
   "source": [
    "### 3. apply relevenat methods\n",
    "**available methods** \n",
    "* premium( )\n",
    "* market_share( ) \n",
    "* loss_ratio( ) \n",
    "* claims_paid( )\n",
    "* underwriting_profits( )\n",
    "* claims_incurred( )\n",
    "* profit_loss_account( )\n",
    "* revenue_account( )\n",
    "* bal_sheet_account( )\n",
    "\n",
    "#### apply premium and market_share"
   ]
  },
  {
   "cell_type": "code",
   "execution_count": 3,
   "metadata": {},
   "outputs": [],
   "source": [
    "prem_18 = data_18.premium()\n",
    "prem_19 = data_19.premium()\n",
    "ms_18 = data_18.market_share()\n",
    "ms_19 = data_19.market_share()"
   ]
  },
  {
   "cell_type": "markdown",
   "metadata": {},
   "source": [
    "#### inspect data "
   ]
  },
  {
   "cell_type": "code",
   "execution_count": 4,
   "metadata": {},
   "outputs": [
    {
     "data": {
      "text/html": [
       "<div>\n",
       "<style scoped>\n",
       "    .dataframe tbody tr th:only-of-type {\n",
       "        vertical-align: middle;\n",
       "    }\n",
       "\n",
       "    .dataframe tbody tr th {\n",
       "        vertical-align: top;\n",
       "    }\n",
       "\n",
       "    .dataframe thead th {\n",
       "        text-align: right;\n",
       "    }\n",
       "</style>\n",
       "<table border=\"1\" class=\"dataframe\">\n",
       "  <thead>\n",
       "    <tr style=\"text-align: right;\">\n",
       "      <th></th>\n",
       "      <th>Aviation</th>\n",
       "      <th>Engineering</th>\n",
       "      <th>Fire Domestic</th>\n",
       "      <th>Fire Industrial</th>\n",
       "      <th>Liability</th>\n",
       "      <th>Marine</th>\n",
       "      <th>Motor Private</th>\n",
       "      <th>Motor Commercial</th>\n",
       "      <th>Personal Accident</th>\n",
       "      <th>Theft</th>\n",
       "      <th>Workmens' Compensation</th>\n",
       "      <th>Medical</th>\n",
       "      <th>Miscellaneous</th>\n",
       "    </tr>\n",
       "    <tr>\n",
       "      <th>Company</th>\n",
       "      <th></th>\n",
       "      <th></th>\n",
       "      <th></th>\n",
       "      <th></th>\n",
       "      <th></th>\n",
       "      <th></th>\n",
       "      <th></th>\n",
       "      <th></th>\n",
       "      <th></th>\n",
       "      <th></th>\n",
       "      <th></th>\n",
       "      <th></th>\n",
       "      <th></th>\n",
       "    </tr>\n",
       "  </thead>\n",
       "  <tbody>\n",
       "    <tr>\n",
       "      <th>AAR</th>\n",
       "      <td>0</td>\n",
       "      <td>190</td>\n",
       "      <td>1405</td>\n",
       "      <td>1477</td>\n",
       "      <td>3946</td>\n",
       "      <td>-1362</td>\n",
       "      <td>0</td>\n",
       "      <td>0</td>\n",
       "      <td>34334</td>\n",
       "      <td>1782</td>\n",
       "      <td>43457</td>\n",
       "      <td>5498241</td>\n",
       "      <td>25478</td>\n",
       "    </tr>\n",
       "    <tr>\n",
       "      <th>AFRICAN MERCHANT</th>\n",
       "      <td>0</td>\n",
       "      <td>148128</td>\n",
       "      <td>3190</td>\n",
       "      <td>368933</td>\n",
       "      <td>20442</td>\n",
       "      <td>13075</td>\n",
       "      <td>771838</td>\n",
       "      <td>595915</td>\n",
       "      <td>66369</td>\n",
       "      <td>33611</td>\n",
       "      <td>93801</td>\n",
       "      <td>0</td>\n",
       "      <td>63960</td>\n",
       "    </tr>\n",
       "    <tr>\n",
       "      <th>AIG</th>\n",
       "      <td>18291</td>\n",
       "      <td>33097</td>\n",
       "      <td>102232</td>\n",
       "      <td>779476</td>\n",
       "      <td>599074</td>\n",
       "      <td>45899</td>\n",
       "      <td>929092</td>\n",
       "      <td>202110</td>\n",
       "      <td>245338</td>\n",
       "      <td>339377</td>\n",
       "      <td>340730</td>\n",
       "      <td>0</td>\n",
       "      <td>0</td>\n",
       "    </tr>\n",
       "    <tr>\n",
       "      <th>ALLIANZ</th>\n",
       "      <td>31704</td>\n",
       "      <td>37855</td>\n",
       "      <td>24544</td>\n",
       "      <td>102415</td>\n",
       "      <td>103861</td>\n",
       "      <td>88147</td>\n",
       "      <td>118977</td>\n",
       "      <td>81583</td>\n",
       "      <td>3098</td>\n",
       "      <td>18934</td>\n",
       "      <td>54544</td>\n",
       "      <td>3253</td>\n",
       "      <td>34943</td>\n",
       "    </tr>\n",
       "    <tr>\n",
       "      <th>APA</th>\n",
       "      <td>35263</td>\n",
       "      <td>165893</td>\n",
       "      <td>84222</td>\n",
       "      <td>734627</td>\n",
       "      <td>84613</td>\n",
       "      <td>201715</td>\n",
       "      <td>1384567</td>\n",
       "      <td>1511590</td>\n",
       "      <td>190029</td>\n",
       "      <td>222051</td>\n",
       "      <td>637256</td>\n",
       "      <td>4037263</td>\n",
       "      <td>269898</td>\n",
       "    </tr>\n",
       "  </tbody>\n",
       "</table>\n",
       "</div>"
      ],
      "text/plain": [
       "                  Aviation  Engineering  Fire Domestic  Fire Industrial  \\\n",
       "Company                                                                   \n",
       "AAR                      0          190           1405             1477   \n",
       "AFRICAN MERCHANT         0       148128           3190           368933   \n",
       "AIG                  18291        33097         102232           779476   \n",
       "ALLIANZ              31704        37855          24544           102415   \n",
       "APA                  35263       165893          84222           734627   \n",
       "\n",
       "                  Liability  Marine  Motor Private  Motor Commercial  \\\n",
       "Company                                                                \n",
       "AAR                    3946   -1362              0                 0   \n",
       "AFRICAN MERCHANT      20442   13075         771838            595915   \n",
       "AIG                  599074   45899         929092            202110   \n",
       "ALLIANZ              103861   88147         118977             81583   \n",
       "APA                   84613  201715        1384567           1511590   \n",
       "\n",
       "                  Personal Accident   Theft  Workmens' Compensation  Medical  \\\n",
       "Company                                                                        \n",
       "AAR                           34334    1782                   43457  5498241   \n",
       "AFRICAN MERCHANT              66369   33611                   93801        0   \n",
       "AIG                          245338  339377                  340730        0   \n",
       "ALLIANZ                        3098   18934                   54544     3253   \n",
       "APA                          190029  222051                  637256  4037263   \n",
       "\n",
       "                  Miscellaneous  \n",
       "Company                          \n",
       "AAR                       25478  \n",
       "AFRICAN MERCHANT          63960  \n",
       "AIG                           0  \n",
       "ALLIANZ                   34943  \n",
       "APA                      269898  "
      ]
     },
     "execution_count": 4,
     "metadata": {},
     "output_type": "execute_result"
    }
   ],
   "source": [
    "prem_18.head()"
   ]
  },
  {
   "cell_type": "markdown",
   "metadata": {},
   "source": [
    "### 4. prepare plotting data"
   ]
  },
  {
   "cell_type": "markdown",
   "metadata": {},
   "source": [
    "data to be used in the bars"
   ]
  },
  {
   "cell_type": "code",
   "execution_count": 5,
   "metadata": {},
   "outputs": [],
   "source": [
    "x = np.arange(1,6)\n",
    "y = prem_19['Motor Private'].sort_values(ascending=False).head() # top 5 2019 premium\n",
    "x_ticks = list(y.index)\n",
    "z = prem_18['Motor Private'].loc[x_ticks]                        # compare 2018 premium for the same companies in top5"
   ]
  },
  {
   "cell_type": "markdown",
   "metadata": {},
   "source": [
    "data to be used in annotations"
   ]
  },
  {
   "cell_type": "code",
   "execution_count": 6,
   "metadata": {},
   "outputs": [],
   "source": [
    "y_1 = ms_19['Motor Private'].loc[x_ticks]  \n",
    "z_1 = ms_18['Motor Private'].loc[x_ticks]"
   ]
  },
  {
   "cell_type": "markdown",
   "metadata": {},
   "source": [
    "### 5. plotting top 5 companies by premium per class\n",
    "standard graph with the bars showing premium amount in M.  \n",
    "annotations show market share"
   ]
  },
  {
   "cell_type": "code",
   "execution_count": 7,
   "metadata": {},
   "outputs": [
    {
     "data": {
      "image/png": "[encoded data removed]",
      "text/plain": [
       "<Figure size 432x288 with 1 Axes>"
      ]
     },
     "metadata": {
      "needs_background": "light"
     },
     "output_type": "display_data"
    }
   ],
   "source": [
    "width = 0.4\n",
    "plt.bar(x-width/2,np.array(y)/1e6,width = width,label='2019')\n",
    "plt.bar(x+width/2,np.array(z)/1e6,width = width,label='2018',alpha=0.8)\n",
    "\n",
    "for i,v in enumerate(y):\n",
    "    plt.annotate(\"%1.1f\"%y_1[i]+ '%',(1+i-width/2,v/1e6),ha='center',va='bottom')\n",
    "for i,v in enumerate(z):\n",
    "    plt.annotate(\"%1.1f\"%z_1[i]+ '%',(1+i+width/2,v/1e6),ha='center',va='bottom')\n",
    "\n",
    "plt.xticks(x,x_ticks)\n",
    "plt.xlabel('company', color = 'r')\n",
    "plt.ylabel('KES M')\n",
    "plt.legend()\n",
    "plt.title(y.name)\n",
    "plt.show()"
   ]
  }
 ],
 "metadata": {
  "kernelspec": {
   "display_name": "Python 3",
   "language": "python",
   "name": "python3"
  },
  "language_info": {
   "codemirror_mode": {
    "name": "ipython",
    "version": 3
   },
   "file_extension": ".py",
   "mimetype": "text/x-python",
   "name": "python",
   "nbconvert_exporter": "python",
   "pygments_lexer": "ipython3",
   "version": "3.7.3"
  }
 },
 "nbformat": 4,
 "nbformat_minor": 4
}
